{
 "cells": [
  {
   "metadata": {},
   "cell_type": "markdown",
   "source": [
    "# Music Genre Analysis\n",
    "#### Music Genre Classification and Clustering Using Keyword-Based Embeddings and PCA\n",
    "This project focuses on analyzing and clustering songs based on their descriptive keywords, which represent the instrument, mood, and style of each song. Using techniques like TF-IDF vectorization, Principal Component Analysis (PCA) for dimensionality reduction, and K-means clustering, the goal is to group similar songs together and explore how well these clusters align with their true genres. \n",
    "The only libraries used were numpy, pandas, and matplotlib. No use of prebuilt functions from sklearn is present.\n",
    "## The Dataset\n",
    "The dataset contains songs described by three keywords (which mainly give insights about the\n",
    "instrument used, the mood of the song, and the style of the song), and each song has been\n",
    "labeled with its corresponding genre as a ground truth. There are 147 songs in total. There were seemingly no missing values in the dataset. Hence not much data cleaning was required."
   ],
   "id": "a28264d59de19f8d"
  },
  {
   "cell_type": "code",
   "id": "32302d2300f225b3",
   "metadata": {
    "ExecuteTime": {
     "end_time": "2025-02-11T16:57:08.065905Z",
     "start_time": "2025-02-11T16:57:08.063773Z"
    }
   },
   "source": [
    "import numpy as np\n",
    "import pandas as pd\n",
    "import matplotlib.pyplot as plt\n",
    "#sklearn not allowed "
   ],
   "outputs": [],
   "execution_count": 294
  },
  {
   "metadata": {
    "ExecuteTime": {
     "end_time": "2025-02-11T16:57:08.118222Z",
     "start_time": "2025-02-11T16:57:08.110914Z"
    }
   },
   "cell_type": "code",
   "source": [
    "data = pd.read_csv(\"dataset.csv\")  #147 rows with columns: instrument, mood, style, genre\n",
    "\n",
    "instruments = data[\"keyword_1\"].tolist()\n",
    "moods = data[\"keyword_2\"].tolist()\n",
    "styles = data[\"keyword_3\"].tolist()\n",
    "genres = data[\"genre\"].tolist()\n",
    "print(moods[3])\n",
    "data.head()"
   ],
   "id": "8532cc813616a69f",
   "outputs": [
    {
     "name": "stdout",
     "output_type": "stream",
     "text": [
      "energetic\n"
     ]
    },
    {
     "data": {
      "text/plain": [
       "   song_id keyword_1  keyword_2  keyword_3      genre\n",
       "0       74    guitar      happy  distorted       rock\n",
       "1      103     brass  energetic    melodic  classical\n",
       "2      201     banjo      happy   acoustic    country\n",
       "3      194     synth  energetic      heavy    hip-hop\n",
       "4      184     synth  energetic       slow    hip-hop"
      ],
      "text/html": [
       "<div>\n",
       "<style scoped>\n",
       "    .dataframe tbody tr th:only-of-type {\n",
       "        vertical-align: middle;\n",
       "    }\n",
       "\n",
       "    .dataframe tbody tr th {\n",
       "        vertical-align: top;\n",
       "    }\n",
       "\n",
       "    .dataframe thead th {\n",
       "        text-align: right;\n",
       "    }\n",
       "</style>\n",
       "<table border=\"1\" class=\"dataframe\">\n",
       "  <thead>\n",
       "    <tr style=\"text-align: right;\">\n",
       "      <th></th>\n",
       "      <th>song_id</th>\n",
       "      <th>keyword_1</th>\n",
       "      <th>keyword_2</th>\n",
       "      <th>keyword_3</th>\n",
       "      <th>genre</th>\n",
       "    </tr>\n",
       "  </thead>\n",
       "  <tbody>\n",
       "    <tr>\n",
       "      <th>0</th>\n",
       "      <td>74</td>\n",
       "      <td>guitar</td>\n",
       "      <td>happy</td>\n",
       "      <td>distorted</td>\n",
       "      <td>rock</td>\n",
       "    </tr>\n",
       "    <tr>\n",
       "      <th>1</th>\n",
       "      <td>103</td>\n",
       "      <td>brass</td>\n",
       "      <td>energetic</td>\n",
       "      <td>melodic</td>\n",
       "      <td>classical</td>\n",
       "    </tr>\n",
       "    <tr>\n",
       "      <th>2</th>\n",
       "      <td>201</td>\n",
       "      <td>banjo</td>\n",
       "      <td>happy</td>\n",
       "      <td>acoustic</td>\n",
       "      <td>country</td>\n",
       "    </tr>\n",
       "    <tr>\n",
       "      <th>3</th>\n",
       "      <td>194</td>\n",
       "      <td>synth</td>\n",
       "      <td>energetic</td>\n",
       "      <td>heavy</td>\n",
       "      <td>hip-hop</td>\n",
       "    </tr>\n",
       "    <tr>\n",
       "      <th>4</th>\n",
       "      <td>184</td>\n",
       "      <td>synth</td>\n",
       "      <td>energetic</td>\n",
       "      <td>slow</td>\n",
       "      <td>hip-hop</td>\n",
       "    </tr>\n",
       "  </tbody>\n",
       "</table>\n",
       "</div>"
      ]
     },
     "execution_count": 295,
     "metadata": {},
     "output_type": "execute_result"
    }
   ],
   "execution_count": 295
  },
  {
   "metadata": {},
   "cell_type": "markdown",
   "source": [
    "Here we see the distribution of songs amongst various keywords.\n",
    "There are 6 unique instrument keywords, 9 unique mood keywords, and 10 unique style keywords.\n",
    "Seeing the distribution of songs amongst these can give an insight into what to expect in the later formed clusters and how well they align with the true genres."
   ],
   "id": "dcfe390f093d996a"
  },
  {
   "metadata": {
    "ExecuteTime": {
     "end_time": "2025-02-11T16:57:08.189689Z",
     "start_time": "2025-02-11T16:57:08.179689Z"
    }
   },
   "cell_type": "code",
   "source": [
    "#organising data through genres, showing the count of each  unique item for all 3 keywords\n",
    "genre_instrument_counts = data.groupby('genre')['keyword_1'].value_counts().unstack(fill_value=0)\n",
    "genre_mood_counts = data.groupby('genre')['keyword_2'].value_counts().unstack(fill_value=0)\n",
    "genre_style_counts = data.groupby('genre')['keyword_3'].value_counts().unstack(fill_value=0)\n",
    "\n",
    "print(genre_instrument_counts)\n",
    "print(genre_mood_counts)\n",
    "print(genre_style_counts)"
   ],
   "id": "64cfa96c649a9fb9",
   "outputs": [
    {
     "name": "stdout",
     "output_type": "stream",
     "text": [
      "keyword_1  banjo  brass  guitar  piano  synth  violin\n",
      "genre                                                \n",
      "classical      0     11       0      6      0      10\n",
      "country        6      0      23      0      0       0\n",
      "hip-hop        0      0       0      0     30       0\n",
      "pop            0      0      12      6     13       0\n",
      "rock           0      0      30      0      0       0\n",
      "keyword_2  angry  calm  emotional  energetic  happy  mellow  nostalgic  sad  \\\n",
      "genre                                                                         \n",
      "classical      0     7          0          5      6       5          0    4   \n",
      "country        0     0          4          5      6       6          3    5   \n",
      "hip-hop        6     0          0          6      6       6          0    6   \n",
      "pop            0     4          7          5      6       5          0    0   \n",
      "rock           6     0          0          6      6       6          0    6   \n",
      "\n",
      "keyword_2  upbeat  \n",
      "genre              \n",
      "classical       0  \n",
      "country         0  \n",
      "hip-hop         0  \n",
      "pop             4  \n",
      "rock            0  \n",
      "keyword_3  acoustic  danceable  distorted  fast  heavy  melodic  rhythmic  \\\n",
      "genre                                                                       \n",
      "classical         0          0          0     8      0        7         0   \n",
      "country           4          0          0     4      0        5         0   \n",
      "hip-hop           0          0          0     5      5        5         5   \n",
      "pop               0          5          0     6      0        5         9   \n",
      "rock              5          0          5     5      5        5         0   \n",
      "\n",
      "keyword_3  slow  twangy  upbeat  \n",
      "genre                            \n",
      "classical     7       0       5  \n",
      "country       5       6       5  \n",
      "hip-hop       5       0       5  \n",
      "pop           6       0       0  \n",
      "rock          0       0       5  \n"
     ]
    }
   ],
   "execution_count": 296
  },
  {
   "metadata": {},
   "cell_type": "markdown",
   "source": [
    "## Vectorisation methods\n",
    "We will be using two methods for vectorization: Bag of Words and TF-IDF.\n",
    "Bag of Words is a simple vectorization technique where each keyword is represented as a one-hot encoded vector. This method is simple and easy to implement.\n",
    "TF-IDF (Term Frequency-Inverse Document Frequency) is a more advanced vectorization technique that gives more weight to less frequent terms. This method is more sophisticated and can give better results than Bag of Words.(not in this case though)\n",
    "\n",
    "**Note: here a \"document\" refers to a song and a \"term\" refers to a keyword.**"
   ],
   "id": "981dce0953e50a8b"
  },
  {
   "metadata": {},
   "cell_type": "markdown",
   "source": [
    "### The code\n",
    "1) The `compute_tfidf` function computes the TF-IDF vector for a given list of keywords. It returns the TF-IDF matrix and the unique terms in the dataset. The IDF values are calculated using the formula: $IDF = \\log(\\frac{N}{\\text{count}})$.The TF values are 1 for all keywords. \n",
    "2) The `BoW` function creates a Bag of Words vector for a given keyword. It returns a binary encoded vector based on the unique terms in the dataset.\n",
    "3) `keyword_binary` and `keyword_tfidf` are the binary and TF-IDF vectors for each keyword category (instrument, mood, style) after applying the respective vectorization techniques. The shapes of these vectors are (147, 6), (147, 9), and (147, 10) respectively. They are numpy arrays.\n",
    "4) The `instrument_terms`, `mood_terms`, and `style_terms` are the unique terms in the dataset for each keyword category."
   ],
   "id": "7469878ca3321648"
  },
  {
   "metadata": {
    "ExecuteTime": {
     "end_time": "2025-02-11T16:57:08.284776Z",
     "start_time": "2025-02-11T16:57:08.282175Z"
    }
   },
   "cell_type": "code",
   "source": [
    "#tfidf vectorization\n",
    "def compute_tfidf(keywords):\n",
    "    unique_terms, term_counts = np.unique(keywords, return_counts=True)\n",
    "    N = len(keywords)\n",
    "    idf = {term: np.log(N / count) for term, count in zip(unique_terms, term_counts)}\n",
    "    \n",
    "    vocab_size = len(unique_terms)\n",
    "    tfidf_matrix = np.zeros((N, vocab_size))\n",
    "    term_to_idx = {term: i for i, term in enumerate(unique_terms)}\n",
    "    \n",
    "    for i, term in enumerate(keywords):\n",
    "        tfidf_matrix[i, term_to_idx[term]] = idf[term]  # TF=1 \n",
    "    \n",
    "    return tfidf_matrix\n",
    "  "
   ],
   "id": "e57dea7aadd9e1a3",
   "outputs": [],
   "execution_count": 297
  },
  {
   "metadata": {
    "ExecuteTime": {
     "end_time": "2025-02-11T16:57:08.406943Z",
     "start_time": "2025-02-11T16:57:08.403757Z"
    }
   },
   "cell_type": "code",
   "source": [
    "# bag of words vectorization\n",
    "def BoW(keyword, unique_terms): \n",
    "    vector = np.zeros(len(unique_terms))\n",
    "    if keyword in unique_terms:\n",
    "        vector[unique_terms.index(keyword)] = 1\n",
    "    return vector\n",
    "\n",
    "instrument_terms = data[\"keyword_1\"].unique().tolist()\n",
    "mood_terms = data[\"keyword_2\"].unique().tolist()\n",
    "style_terms = data[\"keyword_3\"].unique().tolist()"
   ],
   "id": "6297753ab7952bc3",
   "outputs": [],
   "execution_count": 298
  },
  {
   "metadata": {
    "ExecuteTime": {
     "end_time": "2025-02-11T16:57:08.439304Z",
     "start_time": "2025-02-11T16:57:08.435130Z"
    }
   },
   "cell_type": "code",
   "source": [
    "#bow vectors for each category\n",
    "instrument_binary = np.array([BoW(term, instrument_terms) for term in instruments]) #shape: (147, 6)\n",
    "mood_binary = np.array([BoW(term, mood_terms) for term in moods]) #shape: (147, 9)\n",
    "style_binary = np.array([BoW(term, style_terms) for term in styles]) #shape: (147, 10)\n",
    "\n",
    "# tfidf vectors for each category\n",
    "instrument_tfidf = compute_tfidf(instruments)  #(147, 6)\n",
    "mood_tfidf = compute_tfidf(moods)                   # (147, 9)\n",
    "style_tfidf = compute_tfidf(styles)                # (147, 10)\n",
    "\n",
    "print(mood_binary[3])"
   ],
   "id": "be062dd2fdd9236f",
   "outputs": [
    {
     "name": "stdout",
     "output_type": "stream",
     "text": [
      "[0. 1. 0. 0. 0. 0. 0. 0. 0.]\n"
     ]
    }
   ],
   "execution_count": 299
  },
  {
   "metadata": {},
   "cell_type": "markdown",
   "source": [
    "## Dimensionality Reduction using PCA\n",
    "### Reducing the 3 Dimensional Vectors to 2 Dimensions\n",
    "The Bag of Words and TF-IDF vectors for each keyword category are 3-dimensional. We will use Principal Component Analysis (PCA) to reduce these vectors to 2 dimensions. This will help in visualizing the songs in a 2D space and clustering them based on these reduced embeddings.\n",
    "The class has a fit and transform method. The fit method calculates the eigenvectors and eigenvalues of the covariance matrix of the data. The transform method projects the data onto the first n eigenvectors to reduce the dimensionality. \n",
    "Thankfully numpy has a built-in function for calculating eigenvectors and eigenvalues, which simplifies our task."
   ],
   "id": "741853896ef9d891"
  },
  {
   "metadata": {
    "ExecuteTime": {
     "end_time": "2025-02-11T16:57:08.495426Z",
     "start_time": "2025-02-11T16:57:08.491657Z"
    }
   },
   "cell_type": "code",
   "source": [
    "# pca class for dimensionality reduction\n",
    "class PCA:\n",
    "    def __init__(self, n_components):\n",
    "        self.n_components = n_components\n",
    "        self.components = None\n",
    "        self.mean = None\n",
    "\n",
    "    def fit(self, X):\n",
    "        # mean centering\n",
    "        self.mean = np.mean(X, axis=0)\n",
    "        X = X - self.mean\n",
    "\n",
    "        # cov matrix\n",
    "        cov = np.cov(X.T)  # X.T is the transpose of X\n",
    "        #cov is a 3x3 matrix giving a measure of the variation between each pair of features(keywords)\n",
    "\n",
    "        #eigenvectors are the line through the \"longest spread\" of song data (most variance)\n",
    "        #eigenvalues quantify the amount of variance in the direction of the eigenvector\n",
    "        eigenvalues, eigenvectors = np.linalg.eig(cov) #thankfully numpy has a built in function for this\n",
    "        eigenvectors = eigenvectors.T  \n",
    "        \n",
    "        #our axes are the orthogonal eigenvectors of the 2 highest eigenvalues obtained from the covariance matrix\n",
    "        desc_index = np.argsort(eigenvalues)[::-1]  #obtains indexes in descending order of eigenvalues \n",
    "        eigenvalues = eigenvalues[desc_index]\n",
    "        eigenvectors = eigenvectors[desc_index]\n",
    "        \n",
    "        # store the first n (2) eigenvectors\n",
    "        self.components = eigenvectors[0 : self.n_components] #slice the first 2 eigenvectors\n",
    "        \n",
    "    def transform(self, X):\n",
    "        X = X - self.mean\n",
    "        # project data onto eigenvectors\n",
    "        return np.dot(X, self.components.T)"
   ],
   "id": "f4167440890f64f",
   "outputs": [],
   "execution_count": 300
  },
  {
   "metadata": {},
   "cell_type": "markdown",
   "source": [
    "## Combining Embeddings \n",
    "### Weighted Combination of Embeddings\n",
    "We will combine the 2-dimensional embeddings obtained from PCA for each keyword category (instrument, mood, style) using different weights. The combined embedding will be used for clustering the songs. The weights are chosen based on the importance of each keyword category in determining the genre of a song. (These weights are arbitrary and can be changed based on the dataset and requirements. For now they are chosen on the basis of intuition)\n",
    "\n",
    "### **Note: going forward we will be using the binary vectors for the clustering process because they simply give better and more separable clusters than TF-IDF**"
   ],
   "id": "18ef65a6a6e58e34"
  },
  {
   "metadata": {
    "ExecuteTime": {
     "end_time": "2025-02-11T16:57:08.555753Z",
     "start_time": "2025-02-11T16:57:08.551328Z"
    }
   },
   "cell_type": "code",
   "source": [
    "# applying PCA to each column\n",
    "pca = PCA(2)\n",
    "\n",
    "pca.fit(instrument_binary)\n",
    "bin_instrument_pca = pca.transform(instrument_binary) \n",
    "pca.fit(mood_binary)  \n",
    "bin_mood_pca = pca.transform(mood_binary)  \n",
    "pca.fit(style_binary)\n",
    "bin_style_pca = pca.transform(style_binary) \n",
    "print(bin_mood_pca[3])\n",
    "# combine embeddings using weights\n",
    "combined_embedding_binary = (0.75*bin_instrument_pca + 0.15*bin_mood_pca + 0.10*bin_style_pca)   # Shape: (147, 2)"
   ],
   "id": "b80b964e4998964a",
   "outputs": [
    {
     "name": "stdout",
     "output_type": "stream",
     "text": [
      "[-0.27745219  0.74898762]\n"
     ]
    }
   ],
   "execution_count": 301
  },
  {
   "metadata": {
    "ExecuteTime": {
     "end_time": "2025-02-11T16:57:08.577120Z",
     "start_time": "2025-02-11T16:57:08.573238Z"
    }
   },
   "cell_type": "code",
   "source": [
    "# applying PCA to each category\n",
    "pca = PCA(2)\n",
    "\n",
    "pca.fit(instrument_tfidf)\n",
    "tf_instrument_pca = pca.transform(instrument_tfidf) \n",
    "pca.fit(mood_tfidf) \n",
    "tf_mood_pca = pca.transform(mood_tfidf) \n",
    "pca.fit(style_tfidf) \n",
    "tf_style_pca = pca.transform(style_tfidf)  \n",
    "\n",
    "# combine embeddings using weights\n",
    "combined_embedding_tfidf = (0.75*tf_instrument_pca + 0.15*tf_mood_pca + 0.10*tf_style_pca)   #(147, 2)"
   ],
   "id": "1b0f8528a861cfe2",
   "outputs": [],
   "execution_count": 302
  },
  {
   "metadata": {},
   "cell_type": "markdown",
   "source": "#### Below is a plot of all the songs color-coded by their genres. It already shows three distinct clusters, which goes against the actual number of unique genres (6). This suggests that the songs are not well-separated based on their genres.",
   "id": "93cfe05999b1f9b2"
  },
  {
   "metadata": {
    "collapsed": true,
    "ExecuteTime": {
     "end_time": "2025-02-11T16:57:08.736385Z",
     "start_time": "2025-02-11T16:57:08.611740Z"
    }
   },
   "cell_type": "code",
   "source": [
    "# plotting the 2d embeddings obtained from PCA\n",
    "plt.figure(figsize=(10, 8))\n",
    "scatter = plt.scatter(combined_embedding_binary[:, 0], \n",
    "                      combined_embedding_binary[:, 1], \n",
    "                      c=pd.factorize(pd.Series(genres))[0],\n",
    "                      cmap='rainbow',\n",
    "                      edgecolors='black', linewidths=0.45)\n",
    "\n",
    "plt.legend(handles=scatter.legend_elements()[0], labels=np.unique(genres).tolist(), title=\"Genres\")\n",
    "\n",
    "plt.title(\"(a,,b,c) = (0.75, 0.15, 0.10) \")\n",
    "plt.xlabel(\"PCA Component 1\")\n",
    "plt.ylabel(\"PCA Component 2\")\n",
    "plt.show()"
   ],
   "id": "initial_id",
   "outputs": [
    {
     "data": {
      "text/plain": [
       "<Figure size 1000x800 with 1 Axes>"
      ],
      "image/png": "[encoded data removed]"
     },
     "metadata": {},
     "output_type": "display_data"
    }
   ],
   "execution_count": 303
  },
  {
   "metadata": {},
   "cell_type": "markdown",
   "source": [
    "## K-means Clustering\n",
    "### The KMeans class\n",
    "The KMeans class has the following methods:\n",
    "1) `__init__`: Initializes the KMeans object with the number of clusters (k) and the maximum number of iterations.\n",
    "2) `fit`: Fits the KMeans model to the data and returns the cluster labels for each data point.\n",
    "The KMeans algorithm consists of the following steps:\n",
    "1) Randomly initialize k centroids. (k can be determined using the elbow curve method)\n",
    "2) Assign each data point to the nearest centroid.\n",
    "3) Once all data points are assigned a cluster, update the centroids to be the mean of the data points in each cluster.\n",
    "4) Repeat steps 2 and 3 until convergence (centroids don't change much/at all) or until the maximum number of iterations is reached.\n",
    "5) Once the above loop ends, return the cluster labels for each data point.\n",
    "\n",
    "We now have a `labels` array containing the index of the cluster each song belongs to. "
   ],
   "id": "7bfa306bef441449"
  },
  {
   "metadata": {
    "ExecuteTime": {
     "end_time": "2025-02-11T16:57:08.819945Z",
     "start_time": "2025-02-11T16:57:08.815460Z"
    }
   },
   "cell_type": "code",
   "source": [
    "class KMeans:\n",
    "    def __init__(self, k, max_iters=500):\n",
    "        self.k = k                # number of clusters\n",
    "        self.max_iters = max_iters  #iterations to run (if no convergence)\n",
    "        self.centroids = None     #cluster centers\n",
    "\n",
    "    def fit(self, X):\n",
    "        #(147,2)\n",
    "        n_samples, n_features = X.shape\n",
    "\n",
    "        ### 1) randomly init centroids by picking k unique points from X\n",
    "        np.random.seed(42)  # fix the seed for reproducibility\n",
    "        random_indices = np.random.choice(n_samples, self.k, replace=False)\n",
    "        self.centroids = X[random_indices]\n",
    "\n",
    "        for iter in range(self.max_iters):\n",
    "            ### 2) assignment step: assign each point to its nearest centroid\n",
    "            #array to store the nearest cluster label for each data point\n",
    "            labels = np.zeros(n_samples, dtype=int)\n",
    "\n",
    "            for i in range(n_samples):\n",
    "                #get the euclidean dist from the point X[i] to each centroid\n",
    "                distances = []\n",
    "                for centroid in self.centroids:\n",
    "                    distance = np.sqrt(np.sum((X[i] - centroid) ** 2)) ##all hail np\n",
    "                    distances.append(distance)\n",
    "                #assign the point to the cluster center with the smallest dist from it\n",
    "                labels[i] = np.argmin(distances) #argmin returns the index of the smallest distance\n",
    "\n",
    "            ### 3)update step: get new centroids as the mean of the points in each cluster\n",
    "            new_centroids = np.zeros_like(self.centroids)\n",
    "            for j in range(self.k):\n",
    "                # get all points that were assigned to cluster j\n",
    "                cluster_points = X[labels == j]\n",
    "                if len(cluster_points) > 0:\n",
    "                    # mean of points in the cluster becomes the new centroid\n",
    "                    new_centroids[j] = np.mean(cluster_points, axis=0)\n",
    "                else:\n",
    "                    # if a cluster gets no points, randomly reinitialize its centroid.(all hail andrew ng)\n",
    "                    new_centroids[j] = X[np.random.choice(n_samples)]\n",
    "\n",
    "            ### 4)check for convergence: if centroids havent changed, exit loop\n",
    "            if np.allclose(self.centroids, new_centroids, atol=1e-6):\n",
    "                break\n",
    "\n",
    "            # update the centroids for the next iteration(we have not converged yet)\n",
    "            self.centroids = new_centroids\n",
    "\n",
    "        # return final labels for each data point\n",
    "        return labels"
   ],
   "id": "89eaa57027efe8fd",
   "outputs": [],
   "execution_count": 304
  },
  {
   "metadata": {},
   "cell_type": "markdown",
   "source": [
    "### The Elbow Method\n",
    "This method is used to find the optimal value of k for KMeans clustering. The idea is to plot the sum of squared distances of data points to their closest cluster center (inertia) for different values of k. The point where the inertia starts decreasing at a slower rate is considered the optimal value of k(elbow point). This point is called the \"elbow point\". Like in most ML algorithms, here we are trying to minimise a cost function. \n",
    "\n",
    "\n",
    "For us, an ideal value of k, would be one where the clusters are well-separated and distinct, AND where the genres align well with the clusters. i.e a value close to 6 is ideal for us. But from the elbow curve, we can see that the inertia is decreasing at a slower rate after k=3. Hence, we will use k=3 for clustering the songs. It is also clearly visible from the plot of the data points that k=3 gives well-separated clusters."
   ],
   "id": "e7aea160ed16f764"
  },
  {
   "metadata": {
    "ExecuteTime": {
     "end_time": "2025-02-11T16:57:09.115296Z",
     "start_time": "2025-02-11T16:57:08.865713Z"
    }
   },
   "cell_type": "code",
   "source": [
    "#elbow method for best k\n",
    "costs = [] ##inertia is the sum of squared dist of each data point to their closest cluster center\n",
    "#it is an optimisation metric for kmeans. idhar cost basically inertia ko hi keh rahe hain\n",
    "for k in range(1, 11):\n",
    "    kmeans = KMeans(k=k)\n",
    "    labels = kmeans.fit(combined_embedding_binary)\n",
    "    cost = np.sum([np.sum((combined_embedding_binary[labels == i] - kmeans.centroids[i])**2) for i in range(k)])\n",
    "    costs.append(cost)\n",
    "\n",
    "# elbow curve plot\n",
    "plt.plot(range(1, 11), costs, marker='o')\n",
    "plt.plot(3, costs[2], marker='o', markersize=12, label='k=3', c='red')\n",
    "plt.xlabel('k')\n",
    "plt.ylabel('Inertia')\n",
    "plt.title('Elbow Method for Optimal k')\n",
    "plt.show()\n",
    "\n",
    "##on some runs there is a jump on random values of k, dk why(poor initialisation maybe). try random seed"
   ],
   "id": "5a4bd54cf291a552",
   "outputs": [
    {
     "data": {
      "text/plain": [
       "<Figure size 640x480 with 1 Axes>"
      ],
      "image/png": "[encoded data removed]"
     },
     "metadata": {},
     "output_type": "display_data"
    }
   ],
   "execution_count": 305
  },
  {
   "metadata": {},
   "cell_type": "markdown",
   "source": "Plot of the data points and their respective clusters after applying KMeans clustering with k=3. The clusters are well-separated and distinct, which is a good sign that the clustering algorithm is working well. ",
   "id": "49612b5562254259"
  },
  {
   "metadata": {
    "ExecuteTime": {
     "end_time": "2025-02-11T16:57:09.205183Z",
     "start_time": "2025-02-11T16:57:09.122318Z"
    }
   },
   "cell_type": "code",
   "source": [
    "# fit with optimal k (k=3 or 4 in this case)\n",
    "kmeans = KMeans(k=3)\n",
    "labels = kmeans.fit(combined_embedding_binary)\n",
    "cluster_names = [f\"Cluster {i}\" for i in range(kmeans.k)]\n",
    "# cluster plot\n",
    "plt.figure(figsize=(10, 8))\n",
    "scatter = plt.scatter(combined_embedding_binary[:, 0], combined_embedding_binary[:, 1], c=labels, cmap='gist_rainbow', alpha=0.8, edgecolors='black', linewidths=0.5)\n",
    "plt.scatter(kmeans.centroids[:, 0], kmeans.centroids[:, 1], c='black', marker='X', s=200, label='Centroids', edgecolors='black', linewidths=0.5)\n",
    "for i, (x, y) in enumerate(kmeans.centroids):\n",
    "    plt.text(x, y, cluster_names[i], fontsize=6, ha='center', va='center', color='black', bbox=dict(facecolor='white', alpha=0.6))\n",
    "\n",
    "plt.title(\"K-means Clustering of Combined Embeddings (k=3)\")\n",
    "plt.xlabel(\"PCA Component 1\")\n",
    "plt.ylabel(\"PCA Component 2\")\n",
    "plt.legend()\n",
    "plt.grid(alpha=0.3)\n",
    "plt.show()"
   ],
   "id": "cd168c76cc712738",
   "outputs": [
    {
     "data": {
      "text/plain": [
       "<Figure size 1000x800 with 1 Axes>"
      ],
      "image/png": "[encoded data removed]"
     },
     "metadata": {},
     "output_type": "display_data"
    }
   ],
   "execution_count": 306
  },
  {
   "metadata": {},
   "cell_type": "markdown",
   "source": [
    "## Evaluation Metric: Silhouette Score\n",
    "The silhouette score is a measure of how similar an object is to its own cluster  compared to other clusters (separation). The silhouette score ranges from -1 to 1. A score close to 1 indicates that the data point is well-clustered, while a score close to -1 indicates that the data point is misclustered. A score around 0 indicates that the data point is on the border of two clusters.\n",
    "\n",
    "Formula for silhouette score: $\\frac{b - a}{\\max(a, b)}$, where $a$ is the average distance between a sample and all other points in the same cluster, and $b$ is the average distance between a sample and all other points in the nearest cluster."
   ],
   "id": "9c2dc3e41c93afd"
  },
  {
   "metadata": {
    "ExecuteTime": {
     "end_time": "2025-02-11T16:57:09.233464Z",
     "start_time": "2025-02-11T16:57:09.230532Z"
    }
   },
   "cell_type": "code",
   "source": [
    "def silhouette_score(data, labels): \n",
    "    n = len(data)\n",
    "    a = np.zeros(n)  # same-cluster avg distance\n",
    "    b = np.zeros(n)  #nearest-other cluster distance\n",
    "    \n",
    "    for i in range(n):\n",
    "        cluster = labels[i]\n",
    "        same_cluster = data[labels == cluster]\n",
    "        a[i] = np.mean(np.linalg.norm(same_cluster - data[i], axis=1))\n",
    "        \n",
    "        # distance to nearest other cluster\n",
    "        other_clusters = [c for c in np.unique(labels) if c != cluster]\n",
    "        distances = []\n",
    "        for c in other_clusters:\n",
    "            other_cluster_data = data[labels == c]\n",
    "            distances.append(np.mean(np.linalg.norm(other_cluster_data - data[i], axis=1)))\n",
    "        b[i] = np.min(distances)\n",
    "    \n",
    "    score = np.mean((b - a) / np.maximum(a, b)) #silhouette score formula\n",
    "    return score"
   ],
   "id": "a5cd600fef4b6188",
   "outputs": [],
   "execution_count": 307
  },
  {
   "metadata": {},
   "cell_type": "markdown",
   "source": [
    "Upon calculating the silhouette score for the clustering of songs, we get a score of 0.93 which is close to 1. This indicates that the songs are well-clustered and the clustering algorithm is working well.\n",
    "\n",
    "But this method of evaluation is not perfect. It is a good metric for evaluating the quality of clusters but it does not take into account the true ground truth genres of the songs. Hence, we will also look at how well the clusters align with the true genres of the songs."
   ],
   "id": "df9a398b1335e19d"
  },
  {
   "metadata": {
    "ExecuteTime": {
     "end_time": "2025-02-11T16:57:52.213237Z",
     "start_time": "2025-02-11T16:57:52.197166Z"
    }
   },
   "cell_type": "code",
   "source": [
    "ss = silhouette_score(combined_embedding_binary, labels)\n",
    "print(f\"Silhouette Score: {ss:.4f}\")"
   ],
   "id": "cd36be969628dd4b",
   "outputs": [
    {
     "name": "stdout",
     "output_type": "stream",
     "text": [
      "Silhouette Score: 0.8250\n"
     ]
    }
   ],
   "execution_count": 311
  },
  {
   "metadata": {},
   "cell_type": "markdown",
   "source": [
    "## Assigning Genres to New Songs\n",
    "We will now assign genres to new songs based on their descriptive keywords. The keywords are vectorized using Bag of Words, and the embeddings are combined using the same weights as before. The predicted cluster for each new song is obtained by finding the nearest centroid to its embedding. The predicted clusters are then mapped to the true genres to assign a genre to each new song."
   ],
   "id": "9ba7cdaeea9e97f3"
  },
  {
   "metadata": {
    "ExecuteTime": {
     "end_time": "2025-02-11T16:57:09.300607Z",
     "start_time": "2025-02-11T16:57:09.294079Z"
    }
   },
   "cell_type": "code",
   "source": [
    "##assigning genre to new songs\n",
    "new_songs = [\n",
    "    [\"piano\", \"calm\", \"slow\"],\n",
    "    [\"guitar\", \"emotional\", \"distorted\"],\n",
    "    [\"synth\", \"mellow\", \"distorted\"]\n",
    "]\n",
    "new_embeddings = []\n",
    "for song in new_songs:\n",
    "    #vectors for each keyword\n",
    "    instrument_vector = BoW(song[0], instrument_terms)  \n",
    "    mood_vector = BoW(song[1], mood_terms)\n",
    "    style_vector = BoW(song[2], style_terms)\n",
    "    \n",
    "    pca.fit(instrument_binary)\n",
    "    instrument_emb = pca.transform(np.array([instrument_vector]))  #  (1,2)\n",
    "    pca.fit(mood_binary)\n",
    "    mood_emb = pca.transform(np.array([mood_vector]))  #  (1,2)\n",
    "    pca.fit(style_binary)\n",
    "    style_emb = pca.transform(np.array([style_vector]))  #  (1,2)\n",
    "    \n",
    "    # combine embeddings (same weights as before)\n",
    "    combined_emb = 0.9 * instrument_emb + 0.05 * mood_emb + 0.05 * style_emb\n",
    "    new_embeddings.append(combined_emb[0])\n",
    "\n",
    "new_embeddings = np.array(new_embeddings)\n",
    "\n",
    "def predict_cluster(new_embedding, centroids):\n",
    "    #euclidean distances from the new point to each centroid\n",
    "    distances = np.sqrt(np.sum((centroids - new_embedding)**2, axis=1))\n",
    "    return np.argmin(distances)\n",
    "predicted_clusters = [predict_cluster(emb, kmeans.centroids) for emb in new_embeddings]\n",
    "\n",
    "newsong_df = pd.DataFrame({\n",
    "    \"Keywords\": [\", \".join(song) for song in new_songs],\n",
    "    \"Embedding\": [f\"({emb[0]:.2f}, {emb[1]:.2f})\" for emb in new_embeddings],\n",
    "    \"Predicted Cluster\": predicted_clusters\n",
    "})\n",
    "\n",
    "print(newsong_df.to_string(index=False))"
   ],
   "id": "362c466d32ccfdfd",
   "outputs": [
    {
     "name": "stdout",
     "output_type": "stream",
     "text": [
      "                    Keywords      Embedding  Predicted Cluster\n",
      "           piano, calm, slow  (-0.17, 0.61)                  0\n",
      "guitar, emotional, distorted  (0.56, -0.15)                  1\n",
      "    synth, mellow, distorted (-0.73, -0.33)                  2\n"
     ]
    }
   ],
   "execution_count": 309
  },
  {
   "metadata": {},
   "cell_type": "markdown",
   "source": [
    "## Cluster-Genre Purity Table\n",
    "The above results from predicting the cluster of new songs can be evaluated using a **cluster-genre purity table**. This table shows the percentage of songs in each cluster that belong to each genre.\n",
    "\n",
    "This table can be used to judge which genre the new song is most likely to belong to based on the cluster it is assigned to.\n",
    "\n",
    "This extrinsic metric of evaluation takes into account the ground truth genres of the songs and how well they align with the clusters formed by the KMeans algorithm."
   ],
   "id": "477b52f3adddfee4"
  },
  {
   "metadata": {
    "ExecuteTime": {
     "end_time": "2025-02-11T17:28:44.201330Z",
     "start_time": "2025-02-11T17:28:44.195953Z"
    }
   },
   "cell_type": "code",
   "source": [
    "# cluster-genre alignment table\n",
    "cluster_genres = {i: {} for i in range(kmeans.k)} #initialise a dictionary with keys as cluster labels\n",
    "#populate \n",
    "for label, genre in zip(labels, genres):  \n",
    "    if genre in cluster_genres[label]:\n",
    "        cluster_genres[label][genre] += 1\n",
    "    else:\n",
    "        cluster_genres[label][genre] = 1\n",
    "cluster_genre_df = pd.DataFrame.from_dict(cluster_genres, orient='index')\n",
    "cluster_genre_df = cluster_genre_df.fillna(0)\n",
    "cluster_genre_df_percentage = cluster_genre_df.div(cluster_genre_df.sum(axis=1), axis=0) * 100\n",
    "print(cluster_genre_df_percentage)"
   ],
   "id": "32fea7c6275a0d35",
   "outputs": [
    {
     "name": "stdout",
     "output_type": "stream",
     "text": [
      "   classical    country        pop       rock    hip-hop\n",
      "0  69.230769  15.384615  15.384615   0.000000   0.000000\n",
      "1   0.000000  35.384615  18.461538  46.153846   0.000000\n",
      "2   0.000000   0.000000  30.232558   0.000000  69.767442\n"
     ]
    }
   ],
   "execution_count": 314
  },
  {
   "metadata": {},
   "cell_type": "markdown",
   "source": [
    "# Conclusion\n",
    "This project demonstrated how keyword-based analysis can effectively group and classify songs into meaningful clusters that align with their true genres. By leveraging TF-IDF vectorization, PCA for dimensionality reduction, and K-means clustering, we transformed textual keywords into actionable insights about music genres."
   ],
   "id": "bef4d063ef109dc8"
  }
 ],
 "metadata": {
  "kernelspec": {
   "display_name": "Python 3",
   "language": "python",
   "name": "python3"
  },
  "language_info": {
   "codemirror_mode": {
    "name": "ipython",
    "version": 2
   },
   "file_extension": ".py",
   "mimetype": "text/x-python",
   "name": "python",
   "nbconvert_exporter": "python",
   "pygments_lexer": "ipython2",
   "version": "2.7.6"
  }
 },
 "nbformat": 4,
 "nbformat_minor": 5
}
